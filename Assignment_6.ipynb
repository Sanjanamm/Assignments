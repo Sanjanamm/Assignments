{
  "nbformat": 4,
  "nbformat_minor": 0,
  "metadata": {
    "colab": {
      "name": "Assignment_6.ipynb",
      "provenance": [],
      "collapsed_sections": [],
      "include_colab_link": true
    },
    "kernelspec": {
      "name": "python3",
      "display_name": "Python 3"
    },
    "language_info": {
      "name": "python"
    }
  },
  "cells": [
    {
      "cell_type": "markdown",
      "metadata": {
        "id": "view-in-github",
        "colab_type": "text"
      },
      "source": [
        "<a href=\"https://colab.research.google.com/github/Sanjanamm/Assignments/blob/main/Assignment_6.ipynb\" target=\"_parent\"><img src=\"https://colab.research.google.com/assets/colab-badge.svg\" alt=\"Open In Colab\"/></a>"
      ]
    },
    {
      "cell_type": "markdown",
      "source": [
        "1.What are Escape characters ? and how do you use them ?\n",
        "\n"
      ],
      "metadata": {
        "id": "N3cEJoLUxF_b"
      }
    },
    {
      "cell_type": "markdown",
      "source": [
        "    Escape characters represent characters in string values that would otherwise be difficult or impossible to type into code. we can use the backslash character to escape a single character or symbol example: \\t, \\n"
      ],
      "metadata": {
        "id": "FxSzhKMepzGV"
      }
    },
    {
      "cell_type": "markdown",
      "source": [
        "\n",
        "2.What do the escape characters n and t stand for ?\n",
        "\n"
      ],
      "metadata": {
        "id": "Ru_DGcuAzRLf"
      }
    },
    {
      "cell_type": "markdown",
      "source": [
        "    \\n is a newline, \\t is a tab"
      ],
      "metadata": {
        "id": "kJZqNOPNqEkG"
      }
    },
    {
      "cell_type": "markdown",
      "source": [
        "3.What is the way to include backslash character in a string?\n"
      ],
      "metadata": {
        "id": "O8i7zAWGzhBS"
      }
    },
    {
      "cell_type": "markdown",
      "source": [
        "    The \\\\ escape character will represent the backslash character in a string\n"
      ],
      "metadata": {
        "id": "zJXuKlR4qLMS"
      }
    },
    {
      "cell_type": "code",
      "source": [
        "s = \"\"\"Task\\s\"\"\";\n",
        "s\n"
      ],
      "metadata": {
        "colab": {
          "base_uri": "https://localhost:8080/",
          "height": 36
        },
        "id": "zxZDeqUlzhpB",
        "outputId": "1333ecf2-37f2-42b4-d78e-fade807a0e31"
      },
      "execution_count": 2,
      "outputs": [
        {
          "output_type": "execute_result",
          "data": {
            "text/plain": [
              "'Task\\\\s'"
            ],
            "application/vnd.google.colaboratory.intrinsic+json": {
              "type": "string"
            }
          },
          "metadata": {},
          "execution_count": 2
        }
      ]
    },
    {
      "cell_type": "markdown",
      "source": [
        "\n",
        "4.The string \"Howl's Moving Castle\" is a correct value. Why isn't the single quote character in the word Howl's not escaped a problem ?\n",
        "\n"
      ],
      "metadata": {
        "id": "15eR9amy2rwL"
      }
    },
    {
      "cell_type": "markdown",
      "source": [
        "    The string \"Howl's Moving Castle\" escaped the problem because it is wrapped inside double quotes. if its wrapped inside single quotes then we have to use escape character \\' to show single quote in the final output\n",
        "    \n",
        "    'Howl\\'s Moving Castle' -> 'Howl's Moving Castle'\n"
      ],
      "metadata": {
        "id": "2nLj02Rfrrhx"
      }
    },
    {
      "cell_type": "code",
      "source": [
        "s='Howl\\'s Moving Castle'\n",
        "s"
      ],
      "metadata": {
        "colab": {
          "base_uri": "https://localhost:8080/",
          "height": 35
        },
        "id": "hqWd8fty2tWD",
        "outputId": "2d1c5739-f435-45b1-a6da-88ca7e9be2e9"
      },
      "execution_count": null,
      "outputs": [
        {
          "output_type": "execute_result",
          "data": {
            "text/plain": [
              "\"Howl's Moving Castle\""
            ],
            "application/vnd.google.colaboratory.intrinsic+json": {
              "type": "string"
            }
          },
          "metadata": {},
          "execution_count": 22
        }
      ]
    },
    {
      "cell_type": "code",
      "source": [
        "s = \"\"\"Howl's moving Castle\"\"\"\n",
        "s"
      ],
      "metadata": {
        "colab": {
          "base_uri": "https://localhost:8080/",
          "height": 35
        },
        "id": "OnTKWa9P23mT",
        "outputId": "b2d030ac-5060-4f91-a54d-2d1ba102647a"
      },
      "execution_count": null,
      "outputs": [
        {
          "output_type": "execute_result",
          "data": {
            "text/plain": [
              "\"Howl's moving Castle\""
            ],
            "application/vnd.google.colaboratory.intrinsic+json": {
              "type": "string"
            }
          },
          "metadata": {},
          "execution_count": 24
        }
      ]
    },
    {
      "cell_type": "markdown",
      "source": [
        "\n",
        "5.How do you write a string of newlines if you don't want to use the n character?\n",
        "\n"
      ],
      "metadata": {
        "id": "YwuakZAU3Lh7"
      }
    },
    {
      "cell_type": "markdown",
      "source": [
        "    Multiline string allow you to use newlines in string without the \\n escape character\n"
      ],
      "metadata": {
        "id": "CdK-i1Dzr_ZR"
      }
    },
    {
      "cell_type": "code",
      "source": [
        "# Example:\n",
        "a = '''iNeuron full stack\n",
        "Data Science Course'''\n",
        "print(a)"
      ],
      "metadata": {
        "colab": {
          "base_uri": "https://localhost:8080/"
        },
        "id": "AvEEKKoz3NRZ",
        "outputId": "2f64d676-ce06-4e46-88af-185ff8315d48"
      },
      "execution_count": null,
      "outputs": [
        {
          "output_type": "stream",
          "name": "stdout",
          "text": [
            "iNeuron full stack\n",
            "Data Science Course\n"
          ]
        }
      ]
    },
    {
      "cell_type": "markdown",
      "source": [
        "\n",
        "6.What are the values of the given expressions ?\n",
        "\n",
        "'Hello, world!'[1]\n",
        "\n",
        "'Hello, world!'[0:5]\n",
        "\n",
        "'Hello, world!'[:5]\n",
        "\n",
        "'Hello, world!'[3:]\n"
      ],
      "metadata": {
        "id": "jEKbVyLi33AA"
      }
    },
    {
      "cell_type": "code",
      "source": [
        "'Hello,world!'[1]"
      ],
      "metadata": {
        "colab": {
          "base_uri": "https://localhost:8080/",
          "height": 35
        },
        "id": "HSHLoNd634Kp",
        "outputId": "bfbb334a-19c8-4992-c5e4-623dbb481825"
      },
      "execution_count": null,
      "outputs": [
        {
          "output_type": "execute_result",
          "data": {
            "text/plain": [
              "'e'"
            ],
            "application/vnd.google.colaboratory.intrinsic+json": {
              "type": "string"
            }
          },
          "metadata": {},
          "execution_count": 26
        }
      ]
    },
    {
      "cell_type": "code",
      "source": [
        "'Hello,world!'[0:5]"
      ],
      "metadata": {
        "colab": {
          "base_uri": "https://localhost:8080/",
          "height": 35
        },
        "id": "5Wi6UG7y3_0B",
        "outputId": "60963ac2-74f2-4c57-8d85-4b83234af0b9"
      },
      "execution_count": null,
      "outputs": [
        {
          "output_type": "execute_result",
          "data": {
            "text/plain": [
              "'Hello'"
            ],
            "application/vnd.google.colaboratory.intrinsic+json": {
              "type": "string"
            }
          },
          "metadata": {},
          "execution_count": 27
        }
      ]
    },
    {
      "cell_type": "code",
      "source": [
        "'Hello,world!'[:5]"
      ],
      "metadata": {
        "colab": {
          "base_uri": "https://localhost:8080/",
          "height": 35
        },
        "id": "pkkIGTH64GMh",
        "outputId": "11284f7f-4b79-4619-c006-33d9ce86680a"
      },
      "execution_count": null,
      "outputs": [
        {
          "output_type": "execute_result",
          "data": {
            "text/plain": [
              "'Hello'"
            ],
            "application/vnd.google.colaboratory.intrinsic+json": {
              "type": "string"
            }
          },
          "metadata": {},
          "execution_count": 28
        }
      ]
    },
    {
      "cell_type": "code",
      "source": [
        "'Hello,world!'[3:]"
      ],
      "metadata": {
        "colab": {
          "base_uri": "https://localhost:8080/",
          "height": 35
        },
        "id": "s8EALqyZ4OmR",
        "outputId": "7690e848-ac54-4e20-d4e5-b7311ba9a196"
      },
      "execution_count": null,
      "outputs": [
        {
          "output_type": "execute_result",
          "data": {
            "text/plain": [
              "'lo,world!'"
            ],
            "application/vnd.google.colaboratory.intrinsic+json": {
              "type": "string"
            }
          },
          "metadata": {},
          "execution_count": 29
        }
      ]
    },
    {
      "cell_type": "markdown",
      "source": [
        "7.What are the values of the following expressions ?\n",
        "\n"
      ],
      "metadata": {
        "id": "lB33rShY4Y9A"
      }
    },
    {
      "cell_type": "markdown",
      "source": [
        "    'Hello'.upper() --> The upper() method converts the whole string to upper case i,e. HELLO\n",
        "\n",
        "    'Hello'.upper().isupper() --> The upper() first converts the string to uppercase and on this uppercase, isupper() method is applied. Hence the output, TRUE\n",
        "\n",
        "    'Hello'.upper().lower() --> On uppercase string lower() is applied. Hence the output hello"
      ],
      "metadata": {
        "id": "juJonlAnsXqo"
      }
    },
    {
      "cell_type": "code",
      "source": [
        "'Hello'.upper()"
      ],
      "metadata": {
        "colab": {
          "base_uri": "https://localhost:8080/",
          "height": 35
        },
        "id": "VVU4V5s24eax",
        "outputId": "24755efb-2d6f-4b4c-cd9d-e3568d460a61"
      },
      "execution_count": null,
      "outputs": [
        {
          "output_type": "execute_result",
          "data": {
            "text/plain": [
              "'HELLO'"
            ],
            "application/vnd.google.colaboratory.intrinsic+json": {
              "type": "string"
            }
          },
          "metadata": {},
          "execution_count": 30
        }
      ]
    },
    {
      "cell_type": "code",
      "source": [
        "'Hello'.upper().isupper()"
      ],
      "metadata": {
        "colab": {
          "base_uri": "https://localhost:8080/"
        },
        "id": "jY202kbE4mvR",
        "outputId": "077eed31-8efa-4718-d7d0-2ee810656bab"
      },
      "execution_count": null,
      "outputs": [
        {
          "output_type": "execute_result",
          "data": {
            "text/plain": [
              "True"
            ]
          },
          "metadata": {},
          "execution_count": 31
        }
      ]
    },
    {
      "cell_type": "code",
      "source": [
        "'Hello'.upper().lower()"
      ],
      "metadata": {
        "colab": {
          "base_uri": "https://localhost:8080/",
          "height": 35
        },
        "id": "_idD9XcZ4rk3",
        "outputId": "9d1445ef-1cca-4ab3-905f-ccc5efa6c461"
      },
      "execution_count": null,
      "outputs": [
        {
          "output_type": "execute_result",
          "data": {
            "text/plain": [
              "'hello'"
            ],
            "application/vnd.google.colaboratory.intrinsic+json": {
              "type": "string"
            }
          },
          "metadata": {},
          "execution_count": 34
        }
      ]
    },
    {
      "cell_type": "markdown",
      "source": [
        "8.What are the values of the following expressions ?\n",
        "\n",
        "'Remember, remember, the fifith of July.'.split()\n",
        "-'.join('There can only one'.split())\n",
        "\n",
        "\n"
      ],
      "metadata": {
        "id": "uxl8apaD54H0"
      }
    },
    {
      "cell_type": "markdown",
      "source": [
        "    The values for the given expressions are:\n",
        "    'Remember, remember, the fifith of July.'.split() -> ['Remember,', 'remember,', 'the', 'fifith', 'of', 'July.']\n",
        "    '-'.join('There can only one'.split()) -> 'There-can-only-one'"
      ],
      "metadata": {
        "id": "N9AHqDeQsst_"
      }
    },
    {
      "cell_type": "code",
      "source": [
        "s= 'Remember,remember,the fifth of July.'.split()"
      ],
      "metadata": {
        "id": "kiakTV266SwF"
      },
      "execution_count": null,
      "outputs": []
    },
    {
      "cell_type": "code",
      "source": [
        "\" \".join(s)"
      ],
      "metadata": {
        "colab": {
          "base_uri": "https://localhost:8080/",
          "height": 35
        },
        "id": "EX4FSOHk6c9l",
        "outputId": "775cb35f-e561-4dd3-e404-5bc253159592"
      },
      "execution_count": null,
      "outputs": [
        {
          "output_type": "execute_result",
          "data": {
            "text/plain": [
              "'Remember,remember,the fifth of July.'"
            ],
            "application/vnd.google.colaboratory.intrinsic+json": {
              "type": "string"
            }
          },
          "metadata": {},
          "execution_count": 39
        }
      ]
    },
    {
      "cell_type": "markdown",
      "source": [
        "\n",
        "9.What are the methods for right-justifying, left-justifying and centering a string ?\n",
        "\n",
        "\n"
      ],
      "metadata": {
        "id": "Tcqmt64z6uiZ"
      }
    },
    {
      "cell_type": "markdown",
      "source": [
        "    The rjust(),ljust(),center() string methods, respectively"
      ],
      "metadata": {
        "id": "oZqoRmlUs5uU"
      }
    },
    {
      "cell_type": "markdown",
      "source": [
        "\n",
        "10.What is the best way to remove whitespace characters from the start or end ?\n",
        "\n"
      ],
      "metadata": {
        "id": "sbP8b_0O6uwc"
      }
    },
    {
      "cell_type": "markdown",
      "source": [
        "    The lstrip() and rstrip() methods remove whitesapce characters from the left and right ends of a string respectively\n",
        "\n"
      ],
      "metadata": {
        "id": "fzPphl6ptBZt"
      }
    },
    {
      "cell_type": "code",
      "source": [
        ""
      ],
      "metadata": {
        "id": "uaJmXPL_62gy"
      },
      "execution_count": null,
      "outputs": []
    }
  ]
}