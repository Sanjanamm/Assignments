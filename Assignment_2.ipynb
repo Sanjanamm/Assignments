{
  "nbformat": 4,
  "nbformat_minor": 0,
  "metadata": {
    "colab": {
      "name": "Assignment_2.ipynb",
      "provenance": [],
      "collapsed_sections": []
    },
    "kernelspec": {
      "name": "python3",
      "display_name": "Python 3"
    },
    "language_info": {
      "name": "python"
    }
  },
  "cells": [
    {
      "cell_type": "markdown",
      "source": [
        "1.What are the two values of the Boolean data type? How do you write them?"
      ],
      "metadata": {
        "id": "7NUf1mRyoyzO"
      }
    },
    {
      "cell_type": "markdown",
      "source": [
        "    Two values of boolean data types are TRUE and FALSE.\n",
        "\n",
        "    True - 1\n",
        "\n",
        "    False - 0"
      ],
      "metadata": {
        "id": "v0gh54Yno7dT"
      }
    },
    {
      "cell_type": "markdown",
      "source": [
        "2.What are the three different types of Boolean operators?"
      ],
      "metadata": {
        "id": "Tr-fj3pHo7hJ"
      }
    },
    {
      "cell_type": "markdown",
      "source": [
        "    Different types of Boolean operators are and,or, not, Xor."
      ],
      "metadata": {
        "id": "0FI-lrkGo7jv"
      }
    },
    {
      "cell_type": "markdown",
      "source": [
        "3.Make a list of each Boolean operator&#39;s truth tables (i.e. every possible combination of Boolean\n",
        "values for the operator and what it evaluate )."
      ],
      "metadata": {
        "id": "njcCDTb_qN3w"
      }
    },
    {
      "cell_type": "markdown",
      "source": [
        "    Truth Table for AND\n",
        "\n",
        "    A B output\n",
        "\n",
        "    0 0 0\n",
        "\n",
        "    0 1 0\n",
        "\n",
        "    1 0 0\n",
        "\n",
        "    1 1 1\n",
        "\n",
        "    Truth Table for OR\n",
        "\n",
        "    A B output\n",
        "\n",
        "    0 0 0\n",
        "\n",
        "    0 1 1\n",
        "\n",
        "    1 0 1\n",
        "\n",
        "    1 1 1\n",
        "\n",
        "    Truth Table for NOT\n",
        "\n",
        "    A output\n",
        "\n",
        "    0 1\n",
        "\n",
        "    1 0\n"
      ],
      "metadata": {
        "id": "xAv637FKtvnM"
      }
    },
    {
      "cell_type": "markdown",
      "source": [
        "4.What are the values of the following expressions?\n",
        "\n",
        "(5 >  4) and (3 == 5)\n",
        "\n",
        "not (5 > 4)\n",
        "\n",
        "(5 > 4) or (3 == 5)\n",
        "\n",
        "not ((5 > 4) or (3 == 5))\n",
        "\n",
        "(True and True) and (True == False)\n",
        "\n",
        "(not False) or (not True)"
      ],
      "metadata": {
        "id": "VhpBz-G2t4RD"
      }
    },
    {
      "cell_type": "code",
      "source": [
        "(5>4) and (3==5)"
      ],
      "metadata": {
        "colab": {
          "base_uri": "https://localhost:8080/"
        },
        "id": "lpCnDqZouPnO",
        "outputId": "61a64d1b-c296-4cd3-c679-8ee2bdd9af9e"
      },
      "execution_count": null,
      "outputs": [
        {
          "output_type": "execute_result",
          "data": {
            "text/plain": [
              "False"
            ]
          },
          "metadata": {},
          "execution_count": 2
        }
      ]
    },
    {
      "cell_type": "code",
      "source": [
        "not (5 > 4)"
      ],
      "metadata": {
        "colab": {
          "base_uri": "https://localhost:8080/"
        },
        "id": "FdEWgk-WuYPe",
        "outputId": "e103c548-5227-494e-8a47-2f9964f4ae56"
      },
      "execution_count": null,
      "outputs": [
        {
          "output_type": "execute_result",
          "data": {
            "text/plain": [
              "False"
            ]
          },
          "metadata": {},
          "execution_count": 3
        }
      ]
    },
    {
      "cell_type": "code",
      "source": [
        "(5 > 4) or (3 == 5)"
      ],
      "metadata": {
        "colab": {
          "base_uri": "https://localhost:8080/"
        },
        "id": "P6WReNV-ucjn",
        "outputId": "c95f7d95-94aa-4e24-a5cd-ead3050522f1"
      },
      "execution_count": null,
      "outputs": [
        {
          "output_type": "execute_result",
          "data": {
            "text/plain": [
              "True"
            ]
          },
          "metadata": {},
          "execution_count": 4
        }
      ]
    },
    {
      "cell_type": "code",
      "source": [
        "not ((5 > 4) or (3 == 5))"
      ],
      "metadata": {
        "colab": {
          "base_uri": "https://localhost:8080/"
        },
        "id": "W5w9x8Vxueh3",
        "outputId": "c98708ae-2ce5-436f-e903-39d0c24f7ef4"
      },
      "execution_count": null,
      "outputs": [
        {
          "output_type": "execute_result",
          "data": {
            "text/plain": [
              "False"
            ]
          },
          "metadata": {},
          "execution_count": 5
        }
      ]
    },
    {
      "cell_type": "code",
      "source": [
        "(True and True) and (True == False)"
      ],
      "metadata": {
        "colab": {
          "base_uri": "https://localhost:8080/"
        },
        "id": "ttHJm1Txuf-W",
        "outputId": "16d5238c-b26f-417a-b609-b5d8b3fa251f"
      },
      "execution_count": null,
      "outputs": [
        {
          "output_type": "execute_result",
          "data": {
            "text/plain": [
              "False"
            ]
          },
          "metadata": {},
          "execution_count": 6
        }
      ]
    },
    {
      "cell_type": "code",
      "source": [
        "(not False) or (not True)"
      ],
      "metadata": {
        "colab": {
          "base_uri": "https://localhost:8080/"
        },
        "id": "-KJuT2J5uihf",
        "outputId": "6c797c3c-107b-4d7b-8c85-c279ac3825f8"
      },
      "execution_count": null,
      "outputs": [
        {
          "output_type": "execute_result",
          "data": {
            "text/plain": [
              "True"
            ]
          },
          "metadata": {},
          "execution_count": 7
        }
      ]
    },
    {
      "cell_type": "markdown",
      "source": [
        "5.What are the six comparison operators?"
      ],
      "metadata": {
        "id": "mbpGdN_Gurwq"
      }
    },
    {
      "cell_type": "markdown",
      "source": [
        "    ==, !=, <, >, <=, and >="
      ],
      "metadata": {
        "id": "vijM_9xauwC4"
      }
    },
    {
      "cell_type": "markdown",
      "source": [
        "6.How do you tell the difference between the equal to and assignment operators?\n",
        "\n",
        "   Describe a condition and when you would use one."
      ],
      "metadata": {
        "id": "CqGJsv5Ju4sA"
      }
    },
    {
      "cell_type": "markdown",
      "source": [
        "    == is the equal to operator that compares two values and evaluates to a Boolean, while = is the assignment operator that stores a value in a variable."
      ],
      "metadata": {
        "id": "KJEE5StmvDfw"
      }
    },
    {
      "cell_type": "code",
      "source": [
        "a = 10  #assignment operator\n",
        "print(a)\n",
        "\n",
        "if (a==10):  #comparison operator\n",
        "  print(\"True\")\n",
        "else:\n",
        "  print(\"False\")\n",
        "\n"
      ],
      "metadata": {
        "colab": {
          "base_uri": "https://localhost:8080/"
        },
        "id": "SthadfH5vc63",
        "outputId": "128ad04c-57cb-420b-dea8-52ce70e385ee"
      },
      "execution_count": null,
      "outputs": [
        {
          "output_type": "stream",
          "name": "stdout",
          "text": [
            "10\n",
            "True\n"
          ]
        }
      ]
    },
    {
      "cell_type": "markdown",
      "source": [
        "\n",
        "\n",
        "7.Identify the three blocks in this code:\n",
        "\n",
        "spam = 0\n",
        "\n",
        "if spam == 10: \n",
        "\n",
        "  print('eggs')\n",
        "\n",
        "if spam > 5:\n",
        "\n",
        "  print('bacon')\n",
        "\n",
        "else:\n",
        "\n",
        "  print('ham') \n",
        "\n",
        "  print('spam')\n",
        "  \n",
        "  print('spam')\n"
      ],
      "metadata": {
        "id": "LvWt0KTDw1RH"
      }
    },
    {
      "cell_type": "code",
      "source": [
        "spam = 0\n",
        "if spam == 10:\n",
        "    print('eggs') #Block 1\n",
        "if spam > 5:\n",
        "    print('bacon') #Block 2\n",
        "else:\n",
        "    print('ham') #Block 3\n",
        "    print('spam')\n",
        "    print('spam')\n"
      ],
      "metadata": {
        "colab": {
          "base_uri": "https://localhost:8080/"
        },
        "id": "dOnADVxLw28i",
        "outputId": "0b5e8322-aa33-4c29-cf83-1fcbbb78e65a"
      },
      "execution_count": null,
      "outputs": [
        {
          "output_type": "stream",
          "name": "stdout",
          "text": [
            "ham\n",
            "spam\n",
            "spam\n"
          ]
        }
      ]
    },
    {
      "cell_type": "markdown",
      "source": [
        "8.Write code that prints Hello if 1 is stored in spam, prints Howdy if 2 is stored in spam, and prints\n",
        "Greetings! if anything else is stored in spam."
      ],
      "metadata": {
        "id": "wnfv9n4_xbie"
      }
    },
    {
      "cell_type": "code",
      "source": [
        "spam = int(input(\"enter the value\"))\n",
        "if (spam == 1):\n",
        "  print(\"Hello\")\n",
        "elif (spam == 2):\n",
        "  print(\"Howdy\")\n",
        "else:\n",
        "  print(\"Greetings!\")\n"
      ],
      "metadata": {
        "colab": {
          "base_uri": "https://localhost:8080/"
        },
        "id": "HVqPbGyLxclr",
        "outputId": "6ffa0421-6552-4ff3-eaf0-224188715cc1"
      },
      "execution_count": null,
      "outputs": [
        {
          "output_type": "stream",
          "name": "stdout",
          "text": [
            "enter the value1\n",
            "Hello\n"
          ]
        }
      ]
    },
    {
      "cell_type": "markdown",
      "source": [
        "9.If your programme is stuck in an endless loop, what keys you’ll press?"
      ],
      "metadata": {
        "id": "g3bTyqytyLI0"
      }
    },
    {
      "cell_type": "markdown",
      "source": [
        "    If program is struck in endless loop press ctrl+c"
      ],
      "metadata": {
        "id": "f8MoEjU_yQok"
      }
    },
    {
      "cell_type": "markdown",
      "source": [
        "10.How can you tell the difference between break and continue?"
      ],
      "metadata": {
        "id": "njmKlgL2yesx"
      }
    },
    {
      "cell_type": "markdown",
      "source": [
        "    break comes out of the loop and stops the entire execution\n",
        "\n",
        "    continue skips the current execution where the condition given inside the loop is met.\n",
        "\n"
      ],
      "metadata": {
        "id": "rb3FMFVSz0xf"
      }
    },
    {
      "cell_type": "markdown",
      "source": [
        "11. In a for loop, what is the difference between range(10), range(0, 10), and range(0, 10, 1)?"
      ],
      "metadata": {
        "id": "lxPTcboH3MCB"
      }
    },
    {
      "cell_type": "code",
      "source": [
        "for i in range(10):\n",
        "  print(i)"
      ],
      "metadata": {
        "colab": {
          "base_uri": "https://localhost:8080/"
        },
        "id": "Lur1wxiq3V3E",
        "outputId": "1a0e6303-e756-42f2-8ed6-7f6f9e124559"
      },
      "execution_count": null,
      "outputs": [
        {
          "output_type": "stream",
          "name": "stdout",
          "text": [
            "0\n",
            "1\n",
            "2\n",
            "3\n",
            "4\n",
            "5\n",
            "6\n",
            "7\n",
            "8\n",
            "9\n"
          ]
        }
      ]
    },
    {
      "cell_type": "code",
      "source": [
        "for i in range(0,10):\n",
        "  print(i)"
      ],
      "metadata": {
        "colab": {
          "base_uri": "https://localhost:8080/"
        },
        "id": "EtS51C773byT",
        "outputId": "f3a94600-3383-430a-8e0c-55edc41e2c81"
      },
      "execution_count": null,
      "outputs": [
        {
          "output_type": "stream",
          "name": "stdout",
          "text": [
            "0\n",
            "1\n",
            "2\n",
            "3\n",
            "4\n",
            "5\n",
            "6\n",
            "7\n",
            "8\n",
            "9\n"
          ]
        }
      ]
    },
    {
      "cell_type": "code",
      "source": [
        "for i in range(0,10,1):\n",
        "  print(i)"
      ],
      "metadata": {
        "colab": {
          "base_uri": "https://localhost:8080/"
        },
        "id": "AcfRGq1X3oLC",
        "outputId": "14cd1eba-f300-4624-f9fd-2a6589fdad0b"
      },
      "execution_count": null,
      "outputs": [
        {
          "output_type": "stream",
          "name": "stdout",
          "text": [
            "0\n",
            "1\n",
            "2\n",
            "3\n",
            "4\n",
            "5\n",
            "6\n",
            "7\n",
            "8\n",
            "9\n"
          ]
        }
      ]
    },
    {
      "cell_type": "markdown",
      "source": [
        "12. Write a short program that prints the numbers 1 to 10 using a for loop. Then write an equivalent\n",
        "program that prints the numbers 1 to 10 using a while loop."
      ],
      "metadata": {
        "id": "kqfKArWf33zO"
      }
    },
    {
      "cell_type": "code",
      "source": [
        "for i in range(1,11):\n",
        "  print(i)"
      ],
      "metadata": {
        "colab": {
          "base_uri": "https://localhost:8080/"
        },
        "id": "hk6WtQdF368x",
        "outputId": "7a7704ef-0f14-4955-8107-8eb08282ea92"
      },
      "execution_count": null,
      "outputs": [
        {
          "output_type": "stream",
          "name": "stdout",
          "text": [
            "1\n",
            "2\n",
            "3\n",
            "4\n",
            "5\n",
            "6\n",
            "7\n",
            "8\n",
            "9\n",
            "10\n"
          ]
        }
      ]
    },
    {
      "cell_type": "code",
      "source": [
        "i=1\n",
        "while(i<=10):\n",
        "  print(i)\n",
        "  i+=1"
      ],
      "metadata": {
        "colab": {
          "base_uri": "https://localhost:8080/"
        },
        "id": "L9jlO5kd4Afi",
        "outputId": "0e7a0386-9ad9-4288-d47c-f9c7f5f62503"
      },
      "execution_count": null,
      "outputs": [
        {
          "output_type": "stream",
          "name": "stdout",
          "text": [
            "1\n",
            "2\n",
            "3\n",
            "4\n",
            "5\n",
            "6\n",
            "7\n",
            "8\n",
            "9\n",
            "10\n"
          ]
        }
      ]
    },
    {
      "cell_type": "markdown",
      "source": [
        "13. If you had a function named bacon() inside a module named spam, how would you call it after\n",
        "importing spam?"
      ],
      "metadata": {
        "id": "L6fZvzhe5SHK"
      }
    },
    {
      "cell_type": "markdown",
      "source": [
        "    spam.bacon()"
      ],
      "metadata": {
        "id": "GKtw49ZA5py5"
      }
    },
    {
      "cell_type": "code",
      "source": [
        ""
      ],
      "metadata": {
        "id": "NG-6X9NK5s1f"
      },
      "execution_count": null,
      "outputs": []
    }
  ]
}