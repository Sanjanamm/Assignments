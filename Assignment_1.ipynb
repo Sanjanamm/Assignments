{
  "nbformat": 4,
  "nbformat_minor": 0,
  "metadata": {
    "colab": {
      "name": "Assignment_1.ipynb",
      "provenance": [],
      "collapsed_sections": []
    },
    "kernelspec": {
      "name": "python3",
      "display_name": "Python 3"
    },
    "language_info": {
      "name": "python"
    }
  },
  "cells": [
    {
      "cell_type": "markdown",
      "source": [
        "1. In the below elements which of them are values or an expression? eg:- values can be\n",
        "integer or string and expressions will be mathematical operators."
      ],
      "metadata": {
        "id": "AnBMl2XsWwS7"
      }
    },
    {
      "cell_type": "markdown",
      "source": [
        "*\n",
        "\n",
        "'hello'\n",
        "\n",
        "-87.8\n",
        "\n",
        "-\n",
        "\n",
        "/\n",
        "\n",
        "+\n",
        "\n",
        "6"
      ],
      "metadata": {
        "id": "DHvR4rDTXPmt"
      }
    },
    {
      "cell_type": "markdown",
      "source": [
        " Ans\n",
        " \n",
        "          1.  * -> expression\n",
        "\n",
        "          2. 'hello' -> value\n",
        "\n",
        "          3. -87.8 -> value\n",
        "\n",
        "          4. - -> expression\n",
        "\n",
        "          5. / -> expression\n",
        "\n",
        "          6. + -> expression\n",
        "\n",
        "          7. 6 -> value "
      ],
      "metadata": {
        "id": "AMqQyBqoXdSl"
      }
    },
    {
      "cell_type": "markdown",
      "source": [
        "2. What is the difference between string and variable?"
      ],
      "metadata": {
        "id": "odSlgr_uZx3Y"
      }
    },
    {
      "cell_type": "markdown",
      "source": [
        "Ans\n",
        "\n",
        "    String - \n",
        "\n",
        "    *   String is a collection of characters\n",
        "    *   Strings are immutable\n",
        "\n",
        "\n",
        "    Variable -\n",
        " \n",
        "\n",
        "    *   Variable is a object created for references \n",
        "    *   We can store data in the varables. \n",
        "\n",
        "\n",
        "\n",
        "           "
      ],
      "metadata": {
        "id": "Ypka1LKjalgv"
      }
    },
    {
      "cell_type": "markdown",
      "source": [
        "3. Describe three different data types."
      ],
      "metadata": {
        "id": "wM-TTBaBciMZ"
      }
    },
    {
      "cell_type": "markdown",
      "source": [
        "Ans\n",
        "\n",
        "\n",
        "\n",
        "        1.   String(str)                  - String is used to store data of text type \n",
        "        2.   int,float,complex            - are of Numeric type \n",
        "        3.   list, tuple, range           - are of sequence type\n",
        "        4.   dict                         - are used for mapping data\n",
        "        5.   set                          - are of set types\n",
        "        6.   bool                         - are of boolean type\n",
        "        7.   bytes,bytearray,memoryview   - are of binary type\n",
        "\n",
        "\n",
        "\n"
      ],
      "metadata": {
        "id": "h3mDkjF7dqAE"
      }
    },
    {
      "cell_type": "markdown",
      "source": [
        "4. What is an expression made up of? What do all expressions do?"
      ],
      "metadata": {
        "id": "1Za6tESBgRYm"
      }
    },
    {
      "cell_type": "markdown",
      "source": [
        "Ans\n",
        "\n",
        "      Expressions are made up of operators(operands), values, containers.\n",
        "      E.g. exp = 5+5\n",
        "      They are used for evaluation or represent values on the screen."
      ],
      "metadata": {
        "id": "c-xRMCF5gRbw"
      }
    },
    {
      "cell_type": "markdown",
      "source": [
        "5. This assignment statements, like spam = 10. What is the difference between an\n",
        "expression and a statement?"
      ],
      "metadata": {
        "id": "Kv672OR_gRen"
      }
    },
    {
      "cell_type": "markdown",
      "source": [
        "Ans\n",
        "\n",
        "      Expression are used to evaluate results whereas, statement is just like a command in python or A statement is an instruction that a Python interpreter can execute"
      ],
      "metadata": {
        "id": "xeg7W-gggRhf"
      }
    },
    {
      "cell_type": "markdown",
      "source": [
        "6. After running the following code, what does the variable bacon contain?\n",
        "\n",
        "    bacon = 22\n",
        "\n",
        "    bacon + 1"
      ],
      "metadata": {
        "id": "dH-IlBqvgRjx"
      }
    },
    {
      "cell_type": "code",
      "source": [
        "bacon =22\n",
        "bacon + 1"
      ],
      "metadata": {
        "colab": {
          "base_uri": "https://localhost:8080/"
        },
        "id": "NAy-TXO_ixPP",
        "outputId": "3be314be-f45c-43e4-8434-a73e2b938441"
      },
      "execution_count": null,
      "outputs": [
        {
          "output_type": "execute_result",
          "data": {
            "text/plain": [
              "23"
            ]
          },
          "metadata": {},
          "execution_count": 2
        }
      ]
    },
    {
      "cell_type": "markdown",
      "source": [
        "7. What should the values of the following two terms be?\n",
        "\n",
        "    'spam' + 'spamspam'\n",
        "\n",
        "    'spam' * 3"
      ],
      "metadata": {
        "id": "TjI941S1jGbR"
      }
    },
    {
      "cell_type": "code",
      "source": [
        "'spam' + 'spamspam'"
      ],
      "metadata": {
        "colab": {
          "base_uri": "https://localhost:8080/",
          "height": 35
        },
        "id": "42j3XZi-jigc",
        "outputId": "ba685480-6179-4946-b88d-3279afeacbe3"
      },
      "execution_count": null,
      "outputs": [
        {
          "output_type": "execute_result",
          "data": {
            "text/plain": [
              "'spamspamspam'"
            ],
            "application/vnd.google.colaboratory.intrinsic+json": {
              "type": "string"
            }
          },
          "metadata": {},
          "execution_count": 3
        }
      ]
    },
    {
      "cell_type": "code",
      "source": [
        "'spam' * 3"
      ],
      "metadata": {
        "colab": {
          "base_uri": "https://localhost:8080/",
          "height": 35
        },
        "id": "X8ZqHwTBjl1E",
        "outputId": "49abcb10-b31b-40c9-eb11-b4f400afc55a"
      },
      "execution_count": null,
      "outputs": [
        {
          "output_type": "execute_result",
          "data": {
            "text/plain": [
              "'spamspamspam'"
            ],
            "application/vnd.google.colaboratory.intrinsic+json": {
              "type": "string"
            }
          },
          "metadata": {},
          "execution_count": 4
        }
      ]
    },
    {
      "cell_type": "markdown",
      "source": [
        "          Both gives same solution 'spamspamspam'"
      ],
      "metadata": {
        "id": "viuzoq-CjsgH"
      }
    },
    {
      "cell_type": "markdown",
      "source": [
        "8. Why is eggs a valid variable name while 100 is invalid?"
      ],
      "metadata": {
        "id": "SohmoJ0uj5XX"
      }
    },
    {
      "cell_type": "markdown",
      "source": [
        "Ans\n",
        "\n",
        "      According, to the variable convention in python the variable name should always start with letter. \n",
        "\n",
        "      A variable name cannot have a integer name\n",
        "\n",
        "      Eg eggs100 is valid variable name."
      ],
      "metadata": {
        "id": "Bmq6Jv8Nj5yj"
      }
    },
    {
      "cell_type": "markdown",
      "source": [
        "9. What three functions can be used to get the integer, floating-point number, or string version of a value?"
      ],
      "metadata": {
        "id": "9sNgTmP5krOz"
      }
    },
    {
      "cell_type": "markdown",
      "source": [
        "      int(), float(), str() are the functions used respectively."
      ],
      "metadata": {
        "id": "gqGxzHFekraC"
      }
    },
    {
      "cell_type": "markdown",
      "source": [
        "10. Why does this expression cause an error? How can you fix it?\n",
        "\n",
        "  'I have eaten' + 99 + 'burritos' "
      ],
      "metadata": {
        "id": "W9NbrJsZkrc6"
      }
    },
    {
      "cell_type": "code",
      "source": [
        "'I have eaten' + '99' + 'burritos'"
      ],
      "metadata": {
        "colab": {
          "base_uri": "https://localhost:8080/",
          "height": 35
        },
        "id": "kCdN9AKslR1w",
        "outputId": "06ad288e-0b89-4eed-d278-566c0ea9330d"
      },
      "execution_count": null,
      "outputs": [
        {
          "output_type": "execute_result",
          "data": {
            "text/plain": [
              "'I have eaten99burritos'"
            ],
            "application/vnd.google.colaboratory.intrinsic+json": {
              "type": "string"
            }
          },
          "metadata": {},
          "execution_count": 6
        }
      ]
    },
    {
      "cell_type": "markdown",
      "source": [
        "      99 is of type int, it cannot be concatenated with a string. Therefore typecast 99 into string."
      ],
      "metadata": {
        "id": "6YhXhLLrljhS"
      }
    },
    {
      "cell_type": "code",
      "source": [
        ""
      ],
      "metadata": {
        "id": "oWePKfeplo-g"
      },
      "execution_count": null,
      "outputs": []
    }
  ]
}