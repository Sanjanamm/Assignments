{
  "nbformat": 4,
  "nbformat_minor": 0,
  "metadata": {
    "colab": {
      "name": "Assignment_5.ipynb",
      "provenance": [],
      "collapsed_sections": [],
      "include_colab_link": true
    },
    "kernelspec": {
      "name": "python3",
      "display_name": "Python 3"
    },
    "language_info": {
      "name": "python"
    }
  },
  "cells": [
    {
      "cell_type": "markdown",
      "metadata": {
        "id": "view-in-github",
        "colab_type": "text"
      },
      "source": [
        "<a href=\"https://colab.research.google.com/github/Sanjanamm/Assignments/blob/main/Assignment_5.ipynb\" target=\"_parent\"><img src=\"https://colab.research.google.com/assets/colab-badge.svg\" alt=\"Open In Colab\"/></a>"
      ]
    },
    {
      "cell_type": "markdown",
      "source": [
        "1.What does an empty dictionary's code look like?\n",
        "\n"
      ],
      "metadata": {
        "id": "8a-dVdavgjZk"
      }
    },
    {
      "cell_type": "markdown",
      "source": [
        "    Dictionary contains key-value pairs.\n",
        "    Dictionary are represented by { }\n",
        "    The first item is the key and the second item is the value.\n",
        "    Both key and value are together called items.\n",
        " "
      ],
      "metadata": {
        "id": "7mQuICcXfY7B"
      }
    },
    {
      "cell_type": "code",
      "source": [
        "dict1 ={'name':\"Sanjana\"}\n"
      ],
      "metadata": {
        "id": "U2lAVEANgrPL"
      },
      "execution_count": null,
      "outputs": []
    },
    {
      "cell_type": "markdown",
      "source": [
        "2.What is the value of a dictionary value with the key 'foo' and the value 42?\n",
        "\n"
      ],
      "metadata": {
        "id": "EVaY4gVxgjjl"
      }
    },
    {
      "cell_type": "markdown",
      "source": [
        "    {'foo':\"42\"}"
      ],
      "metadata": {
        "id": "9kTzeEYaghvy"
      }
    },
    {
      "cell_type": "code",
      "source": [
        "f = {'foo':\"42\"}\n",
        "f"
      ],
      "metadata": {
        "colab": {
          "base_uri": "https://localhost:8080/"
        },
        "id": "M_YSsTzmkfRt",
        "outputId": "c2cc1921-9c51-4c96-ceb3-256c89633894"
      },
      "execution_count": null,
      "outputs": [
        {
          "output_type": "execute_result",
          "data": {
            "text/plain": [
              "{'foo': '42'}"
            ]
          },
          "metadata": {},
          "execution_count": 12
        }
      ]
    },
    {
      "cell_type": "markdown",
      "source": [
        "3.What is the most significant distinction between a dictionary and a list?\n",
        "\n"
      ],
      "metadata": {
        "id": "RhLDHVKNgjme"
      }
    },
    {
      "cell_type": "markdown",
      "source": [
        "    Lists are represented using [] \n",
        "    Dictionary are represented using {}\n",
        "    Items stored in a list are ordered, while items stored in a dictionary are   unordered.\n",
        "    Lists items are indexed by a sequence of numbers, while in dictionary the items are stored in key value pairs."
      ],
      "metadata": {
        "id": "gXs9or0egrF_"
      }
    },
    {
      "cell_type": "markdown",
      "source": [
        "4.What happens if you try to access spam ['foo'] if spam is {'bar':100} ?\n",
        "\n",
        " "
      ],
      "metadata": {
        "id": "NGYkaWPqgjpJ"
      }
    },
    {
      "cell_type": "markdown",
      "source": [
        "    We get KeyError"
      ],
      "metadata": {
        "id": "JZgOziSThABa"
      }
    },
    {
      "cell_type": "code",
      "source": [
        "\n",
        "\n",
        "spam= {'bar':100}\n",
        "spam['foo']"
      ],
      "metadata": {
        "colab": {
          "base_uri": "https://localhost:8080/",
          "height": 202
        },
        "id": "EHenLB7tmYNB",
        "outputId": "b68a3077-0c13-40ef-9e7f-78f3cba45819"
      },
      "execution_count": null,
      "outputs": [
        {
          "output_type": "error",
          "ename": "KeyError",
          "evalue": "ignored",
          "traceback": [
            "\u001b[0;31m---------------------------------------------------------------------------\u001b[0m",
            "\u001b[0;31mKeyError\u001b[0m                                  Traceback (most recent call last)",
            "\u001b[0;32m<ipython-input-17-8c0099dbdc2a>\u001b[0m in \u001b[0;36m<module>\u001b[0;34m()\u001b[0m\n\u001b[1;32m      2\u001b[0m \u001b[0;34m\u001b[0m\u001b[0m\n\u001b[1;32m      3\u001b[0m \u001b[0mspam\u001b[0m\u001b[0;34m=\u001b[0m \u001b[0;34m{\u001b[0m\u001b[0;34m'bar'\u001b[0m\u001b[0;34m:\u001b[0m\u001b[0;36m100\u001b[0m\u001b[0;34m}\u001b[0m\u001b[0;34m\u001b[0m\u001b[0;34m\u001b[0m\u001b[0m\n\u001b[0;32m----> 4\u001b[0;31m \u001b[0mspam\u001b[0m\u001b[0;34m[\u001b[0m\u001b[0;34m'foo'\u001b[0m\u001b[0;34m]\u001b[0m\u001b[0;34m\u001b[0m\u001b[0;34m\u001b[0m\u001b[0m\n\u001b[0m",
            "\u001b[0;31mKeyError\u001b[0m: 'foo'"
          ]
        }
      ]
    },
    {
      "cell_type": "markdown",
      "source": [
        "5.if a dictionary is stored in spam,what is the difference between the expressions 'cat' in spam and 'cat' in spam.keys() ?\n",
        "\n",
        " "
      ],
      "metadata": {
        "id": "8IAcT3R_gjri"
      }
    },
    {
      "cell_type": "markdown",
      "source": [
        "    There is no difference . The operator checks whether a value exits as a key in the dictionary or not"
      ],
      "metadata": {
        "id": "lSrACq3HhceS"
      }
    },
    {
      "cell_type": "markdown",
      "source": [
        "spam = {'cat':\"sa\"} \n",
        "\n",
        "spam{'cat'}\n",
        "\n",
        "spam.keys()\n",
        "\n",
        "spam"
      ],
      "metadata": {
        "id": "GrtXN9T5gjt0"
      }
    },
    {
      "cell_type": "markdown",
      "source": [
        "\n",
        "6.if a dictionary is stored in spam,what is the difference between the expressions 'cat' in spam and 'cat' in spam.values() ?\n",
        "\n",
        "\n"
      ],
      "metadata": {
        "id": "_EjvFA7Sgjwa"
      }
    },
    {
      "cell_type": "markdown",
      "source": [
        "    'cat' in spam checks whether there is a 'cat' key in the dictionary, while 'cat' in spam.values() checks whether there is a value 'cat' for one of the keys in spam."
      ],
      "metadata": {
        "id": "GDbS284uiJhZ"
      }
    },
    {
      "cell_type": "markdown",
      "source": [
        "7.what is a shortcut for the following code ?\n",
        "\n",
        "if 'color' not in spam:\n",
        "\n",
        "spam['color'] ='black'"
      ],
      "metadata": {
        "id": "4b0g_Z8Mp87y"
      }
    },
    {
      "cell_type": "code",
      "source": [
        "spam.setdefault('color','black')\n"
      ],
      "metadata": {
        "colab": {
          "base_uri": "https://localhost:8080/",
          "height": 35
        },
        "id": "cDm2z0o7o8WN",
        "outputId": "09ded9c3-de5b-4d26-b8e2-fbc0b8654aa5"
      },
      "execution_count": null,
      "outputs": [
        {
          "output_type": "execute_result",
          "data": {
            "text/plain": [
              "'black'"
            ],
            "application/vnd.google.colaboratory.intrinsic+json": {
              "type": "string"
            }
          },
          "metadata": {},
          "execution_count": 18
        }
      ]
    },
    {
      "cell_type": "markdown",
      "source": [
        "8.How do you &quot;pretty print&quot; dictionary values using which module and function?"
      ],
      "metadata": {
        "id": "gyPkmEeNnyBL"
      }
    },
    {
      "cell_type": "markdown",
      "source": [
        "    we can pretty print a dictionary using three functions\n",
        "\n",
        "    1.by using pprint() function of pprint module\n",
        "       Note: pprint() function doesnot prettify nested dictionaries\n",
        "    2.by using dumps() method of json module\n",
        "    3.by using dumps() method of yaml module"
      ],
      "metadata": {
        "id": "3wx-_tIkn-Ep"
      }
    },
    {
      "cell_type": "code",
      "source": [
        "ndict = [\n",
        "  {'Name': 'John', 'Age': '23', 'Residence': {'Country':'USA', 'City': 'New York'}},\n",
        "  {'Name': 'Jose', 'Age': '44', 'Residence': {'Country':'Spain', 'City': 'Madrid'}},\n",
        "  {'Name': 'Anne', 'Age': '29', 'Residence': {'Country':'UK', 'City': 'England'}},\n",
        "  {'Name': 'Lee', 'Age': '35', 'Residence': {'Country':'Japan', 'City': 'Osaka'}}\n",
        "]\n",
        "\n",
        "print('Printing using print() function\\n',ndict)\n",
        "print('-'*70)\n",
        "import pprint\n",
        "print('Printing using pprint() funciton')\n",
        "pprint.pprint(ndict)\n",
        "print('-'*70)\n",
        "import json\n",
        "dump = json.dumps(ndict, indent=4)\n",
        "print('Printing using dumps() method\\n', dump)\n",
        "print('-'*70)\n",
        "import yaml\n",
        "dump = yaml.dump(ndict)\n",
        "print('Printing using dump() method\\n', dump)"
      ],
      "metadata": {
        "colab": {
          "base_uri": "https://localhost:8080/"
        },
        "id": "GH8PW-B0nzno",
        "outputId": "82ba5292-fa06-4e2c-d262-6935d6c01e93"
      },
      "execution_count": 1,
      "outputs": [
        {
          "output_type": "stream",
          "name": "stdout",
          "text": [
            "Printing using print() function\n",
            " [{'Name': 'John', 'Age': '23', 'Residence': {'Country': 'USA', 'City': 'New York'}}, {'Name': 'Jose', 'Age': '44', 'Residence': {'Country': 'Spain', 'City': 'Madrid'}}, {'Name': 'Anne', 'Age': '29', 'Residence': {'Country': 'UK', 'City': 'England'}}, {'Name': 'Lee', 'Age': '35', 'Residence': {'Country': 'Japan', 'City': 'Osaka'}}]\n",
            "----------------------------------------------------------------------\n",
            "Printing using pprint() funciton\n",
            "[{'Age': '23',\n",
            "  'Name': 'John',\n",
            "  'Residence': {'City': 'New York', 'Country': 'USA'}},\n",
            " {'Age': '44',\n",
            "  'Name': 'Jose',\n",
            "  'Residence': {'City': 'Madrid', 'Country': 'Spain'}},\n",
            " {'Age': '29',\n",
            "  'Name': 'Anne',\n",
            "  'Residence': {'City': 'England', 'Country': 'UK'}},\n",
            " {'Age': '35',\n",
            "  'Name': 'Lee',\n",
            "  'Residence': {'City': 'Osaka', 'Country': 'Japan'}}]\n",
            "----------------------------------------------------------------------\n",
            "Printing using dumps() method\n",
            " [\n",
            "    {\n",
            "        \"Name\": \"John\",\n",
            "        \"Age\": \"23\",\n",
            "        \"Residence\": {\n",
            "            \"Country\": \"USA\",\n",
            "            \"City\": \"New York\"\n",
            "        }\n",
            "    },\n",
            "    {\n",
            "        \"Name\": \"Jose\",\n",
            "        \"Age\": \"44\",\n",
            "        \"Residence\": {\n",
            "            \"Country\": \"Spain\",\n",
            "            \"City\": \"Madrid\"\n",
            "        }\n",
            "    },\n",
            "    {\n",
            "        \"Name\": \"Anne\",\n",
            "        \"Age\": \"29\",\n",
            "        \"Residence\": {\n",
            "            \"Country\": \"UK\",\n",
            "            \"City\": \"England\"\n",
            "        }\n",
            "    },\n",
            "    {\n",
            "        \"Name\": \"Lee\",\n",
            "        \"Age\": \"35\",\n",
            "        \"Residence\": {\n",
            "            \"Country\": \"Japan\",\n",
            "            \"City\": \"Osaka\"\n",
            "        }\n",
            "    }\n",
            "]\n",
            "----------------------------------------------------------------------\n",
            "Printing using dump() method\n",
            " - Age: '23'\n",
            "  Name: John\n",
            "  Residence: {City: New York, Country: USA}\n",
            "- Age: '44'\n",
            "  Name: Jose\n",
            "  Residence: {City: Madrid, Country: Spain}\n",
            "- Age: '29'\n",
            "  Name: Anne\n",
            "  Residence: {City: England, Country: UK}\n",
            "- Age: '35'\n",
            "  Name: Lee\n",
            "  Residence: {City: Osaka, Country: Japan}\n",
            "\n"
          ]
        }
      ]
    },
    {
      "cell_type": "code",
      "source": [
        ""
      ],
      "metadata": {
        "id": "4I2v4xBEoZBv"
      },
      "execution_count": null,
      "outputs": []
    }
  ]
}