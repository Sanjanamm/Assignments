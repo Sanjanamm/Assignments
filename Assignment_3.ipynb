{
  "nbformat": 4,
  "nbformat_minor": 0,
  "metadata": {
    "colab": {
      "name": "Assignment_3.ipynb",
      "provenance": [],
      "collapsed_sections": [],
      "include_colab_link": true
    },
    "kernelspec": {
      "name": "python3",
      "display_name": "Python 3"
    },
    "language_info": {
      "name": "python"
    }
  },
  "cells": [
    {
      "cell_type": "markdown",
      "metadata": {
        "id": "view-in-github",
        "colab_type": "text"
      },
      "source": [
        "<a href=\"https://colab.research.google.com/github/Sanjanamm/Assignments/blob/main/Assignment_3.ipynb\" target=\"_parent\"><img src=\"https://colab.research.google.com/assets/colab-badge.svg\" alt=\"Open In Colab\"/></a>"
      ]
    },
    {
      "cell_type": "markdown",
      "source": [
        "1. Why are functions advantageous to have in your programs?"
      ],
      "metadata": {
        "id": "SKN2zNju6iRp"
      }
    },
    {
      "cell_type": "markdown",
      "source": [
        "    Functions reduce the need for duplicate code. This makes programs shorter,\n",
        "    easier to read, and easier to update. The main advantage of functions is code reusability."
      ],
      "metadata": {
        "id": "MnEvvlCp6kIg"
      }
    },
    {
      "cell_type": "markdown",
      "source": [
        "\n",
        "2. When does the code in a function run: when it's specified or when it's called?\n",
        "\n",
        "                \n"
      ],
      "metadata": {
        "id": "qS-6LCQc6yqJ"
      }
    },
    {
      "cell_type": "markdown",
      "source": [
        "    The code in a function executes when the function is called, not when the function is specified."
      ],
      "metadata": {
        "id": "SRQrZFRFUC1u"
      }
    },
    {
      "cell_type": "markdown",
      "source": [
        "3. What statement creates a function?\n",
        "\n"
      ],
      "metadata": {
        "id": "qAZAyWwJ624W"
      }
    },
    {
      "cell_type": "markdown",
      "source": [
        "    The def statement defines a function\n",
        "\n",
        "    Syntax of the def function\n",
        "\n",
        "    def function_name(parameters):\n",
        "\n",
        "    \"\"\"doc string\"\"\"\n",
        "\n",
        "    ---function body---\n",
        "    \n",
        "    return value"
      ],
      "metadata": {
        "id": "1jeBeOlfUL44"
      }
    },
    {
      "cell_type": "markdown",
      "source": [
        "4. What is the difference between a function and a function call?\n",
        "\n",
        "\n",
        "\n"
      ],
      "metadata": {
        "id": "D2IiNDI_7iGO"
      }
    },
    {
      "cell_type": "markdown",
      "source": [
        "    A function is a procedure to achieve a particular result. While function call is using this function to acheive that task.\n",
        "\n",
        "    Using a function to do a particular task at any point in a program is called as function call."
      ],
      "metadata": {
        "id": "Yp6Pfa8IUkhd"
      }
    },
    {
      "cell_type": "markdown",
      "source": [
        ""
      ],
      "metadata": {
        "id": "EySQzdoLUXIx"
      }
    },
    {
      "cell_type": "markdown",
      "source": [
        "\n",
        "5. How many global scopes are there in a Python program? How many local scopes?\n",
        "\n",
        "\n"
      ],
      "metadata": {
        "id": "uLd12ni98Xoc"
      }
    },
    {
      "cell_type": "markdown",
      "source": [
        "    There is one global scope, and a local scope is created whenever a function is called."
      ],
      "metadata": {
        "id": "4YTWQVDbUvy2"
      }
    },
    {
      "cell_type": "markdown",
      "source": [
        "\n",
        "6. What happens to variables in a local scope when the function call returns?\n",
        "\n",
        "\n"
      ],
      "metadata": {
        "id": "7ZI_K3bH8akd"
      }
    },
    {
      "cell_type": "markdown",
      "source": [
        "    When a function returns, the local scope is destroyed, and all the variables in it are forgotten."
      ],
      "metadata": {
        "id": "l9uBxWG0U6eo"
      }
    },
    {
      "cell_type": "markdown",
      "source": [
        "\n",
        "7. What is the concept of a return value? Is it possible to have a return value in an expression?\n",
        "\n"
      ],
      "metadata": {
        "id": "HepsbVBA8tD9"
      }
    },
    {
      "cell_type": "markdown",
      "source": [
        "    A return value is the value that a function call evaluates to. Like any value, a return value can be used as part of an expression.\n"
      ],
      "metadata": {
        "id": "R4dZ6oVrVY8I"
      }
    },
    {
      "cell_type": "markdown",
      "source": [
        "\n",
        "8. If a function does not have a return statement, what is the return value of a call to that function?\n",
        "\n",
        "\n"
      ],
      "metadata": {
        "id": "pZ4IapAg8tG6"
      }
    },
    {
      "cell_type": "markdown",
      "source": [
        "    If there is no return statement for a function, its return value is None."
      ],
      "metadata": {
        "id": "l7xjaqzYVpdT"
      }
    },
    {
      "cell_type": "markdown",
      "source": [
        "9. How do you make a function variable refer to the global variable?\n",
        "\n"
      ],
      "metadata": {
        "id": "uWLVpcCa8tMT"
      }
    },
    {
      "cell_type": "markdown",
      "source": [
        "    A global statement will force a variable in a function to refer to the global variable. If you want to refer to a global variable in a function, you can use the global keyword to declare which variables are global."
      ],
      "metadata": {
        "id": "TDaAWpo6VyDs"
      }
    },
    {
      "cell_type": "markdown",
      "source": [
        "\n",
        "10. What is the data type of None?\n",
        "\n",
        "\n"
      ],
      "metadata": {
        "id": "yRbTgXba8tSM"
      }
    },
    {
      "cell_type": "markdown",
      "source": [
        "    The data type of None is NoneType."
      ],
      "metadata": {
        "id": "yOEQRbYmWBnu"
      }
    },
    {
      "cell_type": "markdown",
      "source": [
        "\n",
        "11. What does the sentence import areallyourpetsnamederic do?\n",
        "\n",
        "\n"
      ],
      "metadata": {
        "id": "3V_mVz3d9DlT"
      }
    },
    {
      "cell_type": "markdown",
      "source": [
        "    That import statement imports a module named areallyourpetsnamederic."
      ],
      "metadata": {
        "id": "rW5g4qCVWLaD"
      }
    },
    {
      "cell_type": "markdown",
      "source": [
        "\n",
        "12. If you had a bacon() feature in a spam module, what would you call it after importing spam?\n",
        "\n",
        "\n"
      ],
      "metadata": {
        "id": "ak8kVwYW9Dom"
      }
    },
    {
      "cell_type": "markdown",
      "source": [
        "    This function can be called with spam.bacon()."
      ],
      "metadata": {
        "id": "iVzqlmFAWSET"
      }
    },
    {
      "cell_type": "markdown",
      "source": [
        "\n",
        "13. What can you do to save a programme from crashing if it encounters an error?\n",
        "\n",
        "\n"
      ],
      "metadata": {
        "id": "0kCxZOmM9DrQ"
      }
    },
    {
      "cell_type": "markdown",
      "source": [
        "    Place the line of code that might cause an error in a try clause and use except block to handle the error."
      ],
      "metadata": {
        "id": "FNdqloxTWYG_"
      }
    },
    {
      "cell_type": "markdown",
      "source": [
        "\n",
        "14. What is the purpose of the try clause? What is the purpose of the except clause?\n",
        "\n",
        "\n"
      ],
      "metadata": {
        "id": "TnZ6NAo_9DuK"
      }
    },
    {
      "cell_type": "markdown",
      "source": [
        "    The code that could potentially cause an error goes in the try clause. The code that executes if an error happens goes in the except clause."
      ],
      "metadata": {
        "id": "7T5SXqRIWhBu"
      }
    },
    {
      "cell_type": "markdown",
      "source": [
        ""
      ],
      "metadata": {
        "id": "_t3i2KCo9Dw_"
      }
    },
    {
      "cell_type": "markdown",
      "source": [
        ""
      ],
      "metadata": {
        "id": "q_j8H7Hc9Dzz"
      }
    }
  ]
}