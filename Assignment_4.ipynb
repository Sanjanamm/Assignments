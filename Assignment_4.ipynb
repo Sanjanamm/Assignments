{
  "nbformat": 4,
  "nbformat_minor": 0,
  "metadata": {
    "colab": {
      "name": "Assignment_4.ipynb",
      "provenance": [],
      "collapsed_sections": [],
      "include_colab_link": true
    },
    "kernelspec": {
      "name": "python3",
      "display_name": "Python 3"
    },
    "language_info": {
      "name": "python"
    }
  },
  "cells": [
    {
      "cell_type": "markdown",
      "metadata": {
        "id": "view-in-github",
        "colab_type": "text"
      },
      "source": [
        "<a href=\"https://colab.research.google.com/github/Sanjanamm/Assignments/blob/main/Assignment_4.ipynb\" target=\"_parent\"><img src=\"https://colab.research.google.com/assets/colab-badge.svg\" alt=\"Open In Colab\"/></a>"
      ]
    },
    {
      "cell_type": "markdown",
      "source": [
        "1. What exactly is [ ]?\n",
        "\n"
      ],
      "metadata": {
        "id": "S2GAx-jP-H4i"
      }
    },
    {
      "cell_type": "markdown",
      "source": [
        ""
      ],
      "metadata": {
        "id": "nvn3UZEwX0sc"
      }
    },
    {
      "cell_type": "markdown",
      "source": [
        "    The empty list represented by [] is a list that contains no items. This is similar to '' which represents an empty string"
      ],
      "metadata": {
        "id": "3sAvz1OTX0yr"
      }
    },
    {
      "cell_type": "markdown",
      "source": [
        "\n",
        "2.In a list of values stored in a variable called spam, how would you assign the value 'hello' as the third value? (Assume [2, 4, 6, 8, 10] are in spam.)\n",
        "\n",
        "\n",
        "\n",
        "\n",
        "\n",
        "\n"
      ],
      "metadata": {
        "id": "NxZImtPA-Qdp"
      }
    },
    {
      "cell_type": "markdown",
      "source": [
        "    spam[2]='hello' (Lists follows zero based indexing)"
      ],
      "metadata": {
        "id": "FJ0tF15bX6Wz"
      }
    },
    {
      "cell_type": "code",
      "source": [
        "# Example\n",
        "spam=[2,4,6,8,10]\n",
        "print(spam)\n",
        "spam[2]='hello' #List uses zero based indexing\n",
        "print(spam)"
      ],
      "metadata": {
        "colab": {
          "base_uri": "https://localhost:8080/"
        },
        "id": "qjdpdeuv-dI9",
        "outputId": "1706f498-924e-490f-8382-c1c679906ffb"
      },
      "execution_count": null,
      "outputs": [
        {
          "output_type": "stream",
          "name": "stdout",
          "text": [
            "[2, 4, 6, 8, 10]\n",
            "[2, 4, 'hello', 8, 10]\n"
          ]
        }
      ]
    },
    {
      "cell_type": "code",
      "source": [
        "spam = [2,4,6,8,10]\n",
        "\n",
        "spam[2] = 'hello'\n",
        "\n",
        "spam "
      ],
      "metadata": {
        "colab": {
          "base_uri": "https://localhost:8080/"
        },
        "id": "e_Gh92ZWm1nr",
        "outputId": "d097ae0a-2bbe-45b4-8404-2b7800f90512"
      },
      "execution_count": null,
      "outputs": [
        {
          "output_type": "execute_result",
          "data": {
            "text/plain": [
              "[2, 4, 'hello', 8, 10]"
            ]
          },
          "metadata": {},
          "execution_count": 3
        }
      ]
    },
    {
      "cell_type": "markdown",
      "source": [
        "\n",
        "Let's pretend the spam includes the list ['a','b','c',d'] for the next three queries.\n",
        "3. What is the value of spam[int(int('3'*2)//11)] ?\n",
        "\n"
      ],
      "metadata": {
        "id": "q1OaXaeo-p6v"
      }
    },
    {
      "cell_type": "markdown",
      "source": [
        "    'd' (Note that '3' * 2 is the string '33', which is passed to int() before being divided by 11. This eventually evaluates to 3, spam[3] is equal to d.)\n"
      ],
      "metadata": {
        "id": "1jdLtrAdZU0a"
      }
    },
    {
      "cell_type": "code",
      "source": [
        "print('3' * 2)"
      ],
      "metadata": {
        "colab": {
          "base_uri": "https://localhost:8080/"
        },
        "id": "p33XemhqZjEk",
        "outputId": "20845b84-97f6-4b7f-aba5-bea798601a04"
      },
      "execution_count": 1,
      "outputs": [
        {
          "output_type": "stream",
          "name": "stdout",
          "text": [
            "33\n"
          ]
        }
      ]
    },
    {
      "cell_type": "code",
      "source": [
        "print(int('3'*2)//11)"
      ],
      "metadata": {
        "colab": {
          "base_uri": "https://localhost:8080/"
        },
        "id": "Idf9WBUZZ4pv",
        "outputId": "5a52d00c-4b09-4e89-c48e-90643c953872"
      },
      "execution_count": 3,
      "outputs": [
        {
          "output_type": "stream",
          "name": "stdout",
          "text": [
            "3\n"
          ]
        }
      ]
    },
    {
      "cell_type": "code",
      "source": [
        "spam = ['a','b','c','d']\n",
        "spam[int(int('3'*2)//11)]\n",
        "spam"
      ],
      "metadata": {
        "colab": {
          "base_uri": "https://localhost:8080/"
        },
        "id": "gAMmeA-Qnc3u",
        "outputId": "e28a1333-b9c8-4aa9-954e-cbb6cb26ec2f"
      },
      "execution_count": null,
      "outputs": [
        {
          "output_type": "execute_result",
          "data": {
            "text/plain": [
              "['a', 'b', 'c', 'd']"
            ]
          },
          "metadata": {},
          "execution_count": 20
        }
      ]
    },
    {
      "cell_type": "code",
      "source": [
        ""
      ],
      "metadata": {
        "id": "rnWCes4uZhlB"
      },
      "execution_count": null,
      "outputs": []
    },
    {
      "cell_type": "code",
      "source": [
        "spam=['a','b','c','d']\n",
        "print(\"spam[int(int('3'*2)//11)] ->\",spam[int(int('3'*2)//11)])"
      ],
      "metadata": {
        "colab": {
          "base_uri": "https://localhost:8080/"
        },
        "id": "06tF2rOC-thE",
        "outputId": "682cf275-2f8f-4b6a-b229-8ac9e7b84c46"
      },
      "execution_count": null,
      "outputs": [
        {
          "output_type": "stream",
          "name": "stdout",
          "text": [
            "spam[int(int('3'*2)//11)] -> d\n"
          ]
        }
      ]
    },
    {
      "cell_type": "markdown",
      "source": [
        "4. What is the value of spam[-1]?\n"
      ],
      "metadata": {
        "id": "4sX-xmZY--XO"
      }
    },
    {
      "cell_type": "markdown",
      "source": [
        "\n",
        "    'd' (Lists support Negative indexing, Hence spam[-1] returs 'd')"
      ],
      "metadata": {
        "id": "OXE8vDpbaXgD"
      }
    },
    {
      "cell_type": "code",
      "source": [
        "spam=['a','b','c','d']\n",
        "print('spam[-1] -> ',spam[-1])"
      ],
      "metadata": {
        "colab": {
          "base_uri": "https://localhost:8080/"
        },
        "id": "uRns09yM_DYs",
        "outputId": "cd511ab6-ff52-4950-9e35-cb87583b33bd"
      },
      "execution_count": null,
      "outputs": [
        {
          "output_type": "stream",
          "name": "stdout",
          "text": [
            "spam[-1] ->  d\n"
          ]
        }
      ]
    },
    {
      "cell_type": "markdown",
      "source": [
        "\n",
        "5. What is the value of spam[:2]?\n",
        "\n",
        "\n",
        "\n"
      ],
      "metadata": {
        "id": "GzWcX6GA_Mav"
      }
    },
    {
      "cell_type": "markdown",
      "source": [
        "    spam[:2] returns all elements in the list spam from 0 to 2 excluding 2"
      ],
      "metadata": {
        "id": "6WP1Hf-qaeKW"
      }
    },
    {
      "cell_type": "code",
      "source": [
        "print(spam)\n",
        "print(spam[:2])\n"
      ],
      "metadata": {
        "colab": {
          "base_uri": "https://localhost:8080/"
        },
        "id": "z9hJgz5O_Pbc",
        "outputId": "e047f254-7bd1-4aca-b4b8-b3e1a39c8c6b"
      },
      "execution_count": null,
      "outputs": [
        {
          "output_type": "stream",
          "name": "stdout",
          "text": [
            "['a', 'b', 'c', 'd']\n",
            "['a', 'b']\n"
          ]
        }
      ]
    },
    {
      "cell_type": "markdown",
      "source": [
        "\n",
        "Let's pretend bacon has the list [3.14,'cat',11,'cat',True] for the next three question\n",
        "\n",
        "\n",
        "6. What is the value of bacon.index('cat')?\n",
        "\n",
        "\n"
      ],
      "metadata": {
        "id": "0L3MOwZ7_TRO"
      }
    },
    {
      "cell_type": "markdown",
      "source": [
        "    The value of bacon.index('cat') is 1 (Note: index method returns the index of first occuerence of 'cat')"
      ],
      "metadata": {
        "id": "BkauzrDaanS7"
      }
    },
    {
      "cell_type": "code",
      "source": [
        "bacon=[3.14,'cat',11,'cat',True]"
      ],
      "metadata": {
        "id": "pj7UiLXJ_XV8"
      },
      "execution_count": 5,
      "outputs": []
    },
    {
      "cell_type": "code",
      "source": [
        "bacon.index('cat')"
      ],
      "metadata": {
        "colab": {
          "base_uri": "https://localhost:8080/"
        },
        "id": "Ghbo1ymSp1zR",
        "outputId": "2b627537-c139-404e-de0f-ecbf8b8fcd73"
      },
      "execution_count": 7,
      "outputs": [
        {
          "output_type": "execute_result",
          "data": {
            "text/plain": [
              "1"
            ]
          },
          "metadata": {},
          "execution_count": 7
        }
      ]
    },
    {
      "cell_type": "markdown",
      "source": [
        "7. How does bacon.append(99) change the look of the list value in bacon?"
      ],
      "metadata": {
        "id": "i0SRRSjop_3N"
      }
    },
    {
      "cell_type": "code",
      "source": [
        "bacon.append(99)\n",
        "bacon"
      ],
      "metadata": {
        "colab": {
          "base_uri": "https://localhost:8080/"
        },
        "id": "YTfnLzuSqBSK",
        "outputId": "d86953cc-e726-4a5b-dbb3-d8c6235cf90f"
      },
      "execution_count": null,
      "outputs": [
        {
          "output_type": "execute_result",
          "data": {
            "text/plain": [
              "[3.14, 'cat', 11, 'cat', True, 99]"
            ]
          },
          "metadata": {},
          "execution_count": 23
        }
      ]
    },
    {
      "cell_type": "markdown",
      "source": [
        "8. How does bacon.remove('cat') change the look of the list in bacon?"
      ],
      "metadata": {
        "id": "MtdrbLJnqJlt"
      }
    },
    {
      "cell_type": "code",
      "source": [
        "bacon.remove('cat')\n",
        "bacon"
      ],
      "metadata": {
        "colab": {
          "base_uri": "https://localhost:8080/"
        },
        "id": "rcOYUdVXqQN6",
        "outputId": "3216f754-022b-4dda-b0f2-5b5e5446d7dc"
      },
      "execution_count": null,
      "outputs": [
        {
          "output_type": "execute_result",
          "data": {
            "text/plain": [
              "[3.14, 11, 'cat', True, 99]"
            ]
          },
          "metadata": {},
          "execution_count": 24
        }
      ]
    },
    {
      "cell_type": "markdown",
      "source": [
        "9. What are the list concatenation and list replication operators?\n",
        "\n"
      ],
      "metadata": {
        "id": "SKZ9FFIIrD_d"
      }
    },
    {
      "cell_type": "markdown",
      "source": [
        "    List concatenation uses + operator, whereas list replication uses * operator.\n",
        "\n",
        "    List concatenation adds new values to the existing lists.\n",
        "\n",
        "    List replication prints duplicate values present in the list"
      ],
      "metadata": {
        "id": "DEp2D11mbIC5"
      }
    },
    {
      "cell_type": "code",
      "source": [
        "list1 = [2,3,4,5]\n",
        "list2 = [10,11,21,12,13]\n",
        "print(list1 + list2)     #concatenation\n",
        "print(list2 * 2)         #replication"
      ],
      "metadata": {
        "colab": {
          "base_uri": "https://localhost:8080/"
        },
        "id": "qd29smparG_q",
        "outputId": "2812aa7d-8eaf-4b93-eaab-ab53e6c5b745"
      },
      "execution_count": null,
      "outputs": [
        {
          "output_type": "stream",
          "name": "stdout",
          "text": [
            "[2, 3, 4, 5, 10, 11, 21, 12, 13]\n",
            "[10, 11, 21, 12, 13, 10, 11, 21, 12, 13]\n"
          ]
        }
      ]
    },
    {
      "cell_type": "markdown",
      "source": [
        "10. What is difference between the list methods append() and insert()?\n",
        "\n"
      ],
      "metadata": {
        "id": "N11gQC0wshVw"
      }
    },
    {
      "cell_type": "markdown",
      "source": [
        "    append() inserts the item into the last index, whereas insert() inserts the element at the specified index."
      ],
      "metadata": {
        "id": "lON1Yl7Xb1Yw"
      }
    },
    {
      "cell_type": "code",
      "source": [
        "list=[1,2,3,4,5]\n",
        "list.append(6)\n",
        "print(list)\n",
        "list.insert(2,7)\n",
        "print(list)"
      ],
      "metadata": {
        "colab": {
          "base_uri": "https://localhost:8080/"
        },
        "id": "VI476iHIsmO1",
        "outputId": "abef8a3a-630b-4a0e-a9c3-a8ebac688539"
      },
      "execution_count": null,
      "outputs": [
        {
          "output_type": "stream",
          "name": "stdout",
          "text": [
            "[1, 2, 3, 4, 5, 6]\n",
            "[1, 2, 7, 3, 4, 5, 6]\n"
          ]
        }
      ]
    },
    {
      "cell_type": "markdown",
      "source": [
        "11. What are the two methods for removing items from a list?\n",
        "     \n",
        "     Method 1 - remove()\n",
        "                Specify the item to be removed.\n",
        "\n",
        "     Method 2 - del() \n",
        "                Can be used to delete an item at the given index."
      ],
      "metadata": {
        "id": "2kXXUMuetee4"
      }
    },
    {
      "cell_type": "code",
      "source": [
        "list=[1,2,3,4,5,6,7,8,9]\n",
        "list.remove(2)\n",
        "print(list)\n",
        "del list[0:2]\n",
        "print(list)\n",
        "del list[:]\n",
        "print(list)"
      ],
      "metadata": {
        "colab": {
          "base_uri": "https://localhost:8080/"
        },
        "id": "kCsP2EAytgan",
        "outputId": "4006a0e0-9c12-4c10-c2fc-4cc4836c6a15"
      },
      "execution_count": null,
      "outputs": [
        {
          "output_type": "stream",
          "name": "stdout",
          "text": [
            "[1, 3, 4, 5, 6, 7, 8, 9]\n",
            "[4, 5, 6, 7, 8, 9]\n",
            "[]\n"
          ]
        }
      ]
    },
    {
      "cell_type": "markdown",
      "source": [
        "12. Describe how list values and string values are identical.\n",
        "   \n",
        "  \n",
        "\n",
        "   \n",
        "\n"
      ],
      "metadata": {
        "id": "fbIPnPaXvnF7"
      }
    },
    {
      "cell_type": "markdown",
      "source": [
        "    List and strings are both sequential collection of data.\n",
        "\n",
        "    The length of the data can be fetched by len() method in both list and strings.\n",
        "\n",
        "    Both have indexing and slicing operations.\n",
        "\n",
        "    for loops can be used both in list and strings.\n",
        "\n",
        "    Both data types can perform concatenation, replication operations.\n",
        "\n",
        "    Both data types have in and not in, which is used to check if the element is present or not"
      ],
      "metadata": {
        "id": "rZgVzwpicGGU"
      }
    },
    {
      "cell_type": "markdown",
      "source": [
        "13. What is the difference between tuples and lists?\n",
        "\n"
      ],
      "metadata": {
        "id": "mGa4EfZDypyN"
      }
    },
    {
      "cell_type": "markdown",
      "source": [
        "    Lists are Mutable, Indexable and Slicable. they can have values added, removed, or changed. Tuples are Immutable but Indexable and Slicable. the tuple values cannot be changed at all. Also, tuples are represented using parentheses, (), while lists use the square brackets, [].\n",
        "\n",
        "\n",
        "    On Lists we can perform operations like Indexing,Slicing, they can have values added, removed or changed.\n",
        "\n",
        "    Lists are Mutable.\n",
        "\n",
        "    Lists are represented using [ ].\n",
        "\n",
        "    Tuples are Immutable but indexing and slicing can be performed. Tuple values cannot be changed at all. \n",
        "\n",
        "    Tuples are represented using ().\n"
      ],
      "metadata": {
        "id": "LyhAgap5caQD"
      }
    },
    {
      "cell_type": "markdown",
      "source": [
        "14. How do you type a tuple value that only contains the integer 42?\n",
        "\n"
      ],
      "metadata": {
        "id": "Uavc4SSZ0CDD"
      }
    },
    {
      "cell_type": "markdown",
      "source": [
        "    When tuple contains a single item, Trailing comma is mandatory otherwise it is considered as integer value by python interpretor."
      ],
      "metadata": {
        "id": "BZz6jq9gcmuf"
      }
    },
    {
      "cell_type": "code",
      "source": [
        "t = (42,)\n",
        "t\n",
        "type(t)"
      ],
      "metadata": {
        "colab": {
          "base_uri": "https://localhost:8080/"
        },
        "id": "qeq13xYx0DjL",
        "outputId": "30ea9d5b-c09e-4127-ee80-a41e520aee9c"
      },
      "execution_count": null,
      "outputs": [
        {
          "output_type": "execute_result",
          "data": {
            "text/plain": [
              "tuple"
            ]
          },
          "metadata": {},
          "execution_count": 43
        }
      ]
    },
    {
      "cell_type": "markdown",
      "source": [
        "15. How do you get a list value's tuple form? How do you get a tuple value's list form?\n",
        "\n"
      ],
      "metadata": {
        "id": "bm9aK2N50wO6"
      }
    },
    {
      "cell_type": "markdown",
      "source": [
        "    The tuple() and list() functions, respectively are used to convert a list to tuple and vice versa"
      ],
      "metadata": {
        "id": "tL6bulDycwMp"
      }
    },
    {
      "cell_type": "markdown",
      "source": [
        "16. Variables that \"contain\" list values are not necessarily lists themselves. Instead, what do they\n",
        "contain?\n",
        "\n"
      ],
      "metadata": {
        "id": "Xd0QUs2P1caK"
      }
    },
    {
      "cell_type": "markdown",
      "source": [
        "    Variables will contain references to list values rather than list values themselves. But for strings and integer values, variables simply contain the string or integer value."
      ],
      "metadata": {
        "id": "pi-xcwLDc-ln"
      }
    },
    {
      "cell_type": "markdown",
      "source": [
        "17. How do you distinguish between copy.copy() and copy.deepcopy()?\n",
        "\n"
      ],
      "metadata": {
        "id": "wOFw4kRP18xQ"
      }
    },
    {
      "cell_type": "markdown",
      "source": [
        "    The copy.copy() function will do a shallow copy of a list, while the copy.deepcopy() function will do a deep copy of a list. That is, only copy.deepcopy() will duplicate any lists inside the list."
      ],
      "metadata": {
        "id": "jv_3EKw0dZWx"
      }
    },
    {
      "cell_type": "code",
      "source": [
        "import copy\n",
        "  \n",
        "# initializing list 1 \n",
        "li1 = [1, 2, [3,5], 4]\n",
        "  \n",
        "  \n",
        "# using copy for shallow copy  \n",
        "li2 = copy.copy(li1) \n",
        "print(li2)\n",
        "  \n",
        "# using deepcopy for deepcopy  \n",
        "li3 = copy.deepcopy(li1) \n",
        "print(li3)"
      ],
      "metadata": {
        "colab": {
          "base_uri": "https://localhost:8080/"
        },
        "id": "vHw5lOjD1_ec",
        "outputId": "8259610b-04ec-449d-c4cf-c4c45660a935"
      },
      "execution_count": null,
      "outputs": [
        {
          "output_type": "stream",
          "name": "stdout",
          "text": [
            "[1, 2, [3, 5], 4]\n",
            "[1, 2, [3, 5], 4]\n"
          ]
        }
      ]
    },
    {
      "cell_type": "code",
      "source": [
        "# importing \"copy\" for copy operations\n",
        "import copy\n",
        "  \n",
        "# initializing list 1\n",
        "li1 = [1, 2, [3,5], 4]\n",
        "  \n",
        "# using deepcopy to deep copy \n",
        "li2 = copy.deepcopy(li1)\n",
        "  \n",
        "# original elements of list\n",
        "print (\"The original elements before deep copying\")\n",
        "for i in range(0,len(li1)):\n",
        "    print (li1[i],end=\" \")\n",
        "  \n",
        "print(\"\\r\")\n",
        "  \n",
        "# adding and element to new list\n",
        "li2[2][0] = 7\n",
        "  \n",
        "# Change is reflected in l2 \n",
        "print (\"The new list of elements after deep copying \")\n",
        "for i in range(0,len( li1)):\n",
        "    print (li2[i],end=\" \")\n",
        "  \n",
        "print(\"\\r\")\n",
        "\n",
        "# Change is NOT reflected in original list\n",
        "# as it is a deep copy\n",
        "print (\"The original elements after deep copying\")\n",
        "for i in range(0,len( li1)):\n",
        "    print (li1[i],end=\" \")"
      ],
      "metadata": {
        "colab": {
          "base_uri": "https://localhost:8080/"
        },
        "id": "RVWS1sdi2KSt",
        "outputId": "07d3e315-179e-4a8c-f3cb-5ed59f95663a"
      },
      "execution_count": null,
      "outputs": [
        {
          "output_type": "stream",
          "name": "stdout",
          "text": [
            "The original elements before deep copying\n",
            "1 2 [3, 5] 4 \r\n",
            "The new list of elements after deep copying \n",
            "1 2 [7, 5] 4 \r\n",
            "The original elements after deep copying\n",
            "1 2 [3, 5] 4 "
          ]
        }
      ]
    },
    {
      "cell_type": "code",
      "source": [
        "# Python code to demonstrate copy operations\n",
        "  \n",
        "# importing \"copy\" for copy operations\n",
        "import copy\n",
        "  \n",
        "# initializing list 1\n",
        "li1 = [1, 2, [3,5], 4]\n",
        "  \n",
        "# using copy to shallow copy \n",
        "li2 = copy.copy(li1)\n",
        "  \n",
        "# original elements of list\n",
        "print (\"The original elements before shallow copying\")\n",
        "for i in range(0,len(li1)):\n",
        "    print (li1[i],end=\" \")\n",
        "  \n",
        "print(\"\\r\")\n",
        "  \n",
        "# adding and element to new list\n",
        "li2[2][0] = 7\n",
        "  \n",
        "# checking if change is reflected\n",
        "print (\"The original elements after shallow copying\")\n",
        "for i in range(0,len( li1)):\n",
        "  print (li1[i],end=\" \")"
      ],
      "metadata": {
        "colab": {
          "base_uri": "https://localhost:8080/"
        },
        "id": "CIY4J91I34Xc",
        "outputId": "160bff7f-8cff-4551-ac9e-799edc7789cf"
      },
      "execution_count": null,
      "outputs": [
        {
          "output_type": "stream",
          "name": "stdout",
          "text": [
            "The original elements before shallow copying\n",
            "1 2 [3, 5] 4 \r\n",
            "The original elements after shallow copying\n",
            "1 2 [7, 5] 4 "
          ]
        }
      ]
    },
    {
      "cell_type": "code",
      "source": [
        ""
      ],
      "metadata": {
        "id": "OzXbcjsi4JCx"
      },
      "execution_count": null,
      "outputs": []
    }
  ]
}